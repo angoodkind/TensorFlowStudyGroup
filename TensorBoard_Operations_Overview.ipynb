{
 "cells": [
  {
   "cell_type": "markdown",
   "metadata": {},
   "source": [
    "Github repo for code: https://github.com/chiphuyen/tf-stanford-tutorials\n",
    "* All code updated to Tensorflow 1.2 and Python 3 (on 7/11/17)"
   ]
  },
  {
   "cell_type": "markdown",
   "metadata": {},
   "source": [
    "### Make a simple neural net"
   ]
  },
  {
   "cell_type": "code",
   "execution_count": null,
   "metadata": {
    "collapsed": true
   },
   "outputs": [],
   "source": [
    "## NOTE: This code does not run. Full example here: https://github.com/angoodkind/Tensorboard_demo_tf_v_1.1.0\n",
    "import tensorflow as tf\n",
    "from tensorflow.examples.tutorials.mnist import input_data\n",
    "\n",
    "def init_weights(shape, name):\n",
    "    return tf.Variable(tf.random_normal(shape, stddev=0.01), name=name)\n",
    "\n",
    "# This network is the same as the previous one except with an extra hidden layer + dropout\n",
    "def model(X, w_h, w_h2, w_o, p_keep_input, p_keep_hidden):\n",
    "    ...\n",
    "\n",
    "#Step 1 - Get Input Data\n",
    "mnist = input_data.read_data_sets(\"MNIST_data/\", one_hot=True)\n",
    "trX, trY, teX, teY = mnist.train.images, mnist.train.labels, mnist.test.images, mnist.test.labels\n",
    "\n",
    "#Step 2 - Create input and output placeholders for data\n",
    "X = tf.placeholder(\"float\", [None, 784], name=\"X\")\n",
    "Y = tf.placeholder(\"float\", [None, 10], name=\"Y\")\n",
    "\n",
    "#Step 3 - Initialize weights\n",
    "w_h = init_weights([784, 625], \"w_h\")\n",
    "w_h2 = init_weights([625, 625], \"w_h2\")\n",
    "w_o = init_weights([625, 10], \"w_o\")\n",
    "\n",
    "#Step 4 - Add histogram summaries for weights\n",
    "tf.summary.histogram(\"w_h_summ\", w_h)\n",
    "tf.summary.histogram(\"w_h2_summ\", w_h2)\n",
    "tf.summary.histogram(\"w_o_summ\", w_o)\n",
    "\n",
    "#Step 5 - Add dropout to input and hidden layers\n",
    "p_keep_input = tf.placeholder(\"float\", name=\"p_keep_input\")\n",
    "p_keep_hidden = tf.placeholder(\"float\", name=\"p_keep_hidden\")\n",
    "\n",
    "#Step 6 - Create Model\n",
    "py_x = model(X, w_h, w_h2, w_o, p_keep_input, p_keep_hidden)\n",
    "\n",
    "#Step 7 Create cost function\n",
    "with tf.name_scope(\"cost\"):\n",
    "    ...\n",
    "\n",
    "#Step 8 Measure accuracy\n",
    "with tf.name_scope(\"accuracy\"):\n",
    "    ...\n",
    "    \n",
    "#Step 9 Create a session\n",
    "with tf.Session() as sess:\n",
    "    # Step 10 create a log writer. run 'tensorboard --logdir=./logs/nn_logs'\n",
    "    writer = tf.summary.FileWriter(\"./logs/nn_logs\", sess.graph) # for 0.8\n",
    "    merged = tf.summary.merge_all()\n",
    "\n",
    "    # Step 11 you need to initialize all variables\n",
    "    tf.initialize_all_variables().run()\n",
    "\n",
    "    #Step 12 train the  model\n",
    "    for i in range(100):\n",
    "        for start, end in zip(range(0, len(trX), 128), range(128, len(trX)+1, 128)):\n",
    "            sess.run(train_op, feed_dict={X: trX[start:end], Y: trY[start:end],\n",
    "                                          p_keep_input: 0.8, p_keep_hidden: 0.5})\n",
    "        summary, acc = sess.run([merged, acc_op], feed_dict={X: teX, Y: teY,\n",
    "                                          p_keep_input: 1.0, p_keep_hidden: 1.0})\n",
    "        writer.add_summary(summary, i)  # Write summary\n",
    "        print(i, acc)                   # Report the accuracy\n",
    "\n",
    "    "
   ]
  },
  {
   "cell_type": "markdown",
   "metadata": {},
   "source": [
    "### In a terminal"
   ]
  },
  {
   "cell_type": "code",
   "execution_count": null,
   "metadata": {
    "collapsed": true
   },
   "outputs": [],
   "source": [
    "tensorboard --logdir=./logs/nn_logs"
   ]
  },
  {
   "cell_type": "markdown",
   "metadata": {},
   "source": [
    "![Cost-Accuracy](Images/cost-acc.png)\n",
    "\n",
    "![Network-Example](Images/network-ex.png)"
   ]
  },
  {
   "cell_type": "markdown",
   "metadata": {},
   "source": [
    "### Some TensorFlow tidbits\n",
    "* TF seperates definitions of computation from their execution\n",
    "    * Session \n",
    "        * executes operation\n",
    "        * encapsulates the environment in which Operation objectd are executed and Tensor objects are evaluated\n",
    "* Tensor = matrix\n",
    "    * 0-D - scalar/number\n",
    "    * 1-D - vector\n",
    "    * 2-D - matrix\n",
    "    \n",
    " ![data-flow](Images/data-flow.png)  \n",
    " \n",
    " * Run multiple graphs in one session; do not try to create multiple graphs\n",
    " \n",
    " * Tensors are not iterable\n",
    " \n",
    " * In many instances, TF types can be interchanged with NumPy types\n",
    " \n",
    " * Variables must be initialized before using, but function to initialize all\n",
    " \n",
    " * Can create placeholders, so computations can be run without values"
   ]
  },
  {
   "cell_type": "code",
   "execution_count": null,
   "metadata": {
    "collapsed": true
   },
   "outputs": [],
   "source": [
    "# create a variable whose original value is 2\n",
    "a = tf.Variable ( 2 , name = \"scalar\" )\n",
    "\n",
    "# assign a * 2 to a and call that op a_times_two\n",
    "a_times_two = a.assign (a * 2)\n",
    "init = tf.global_variables_initializer()\n",
    "\n",
    "with tf.Session() as sess: \n",
    "    sess.run(init)\n",
    "    # have to initialize a, because a_times_two op depends on the value of a \n",
    "    sess.run( a_times_two )  # >> 4\n",
    "    sess.run( a_times_two )  # >> 8\n",
    "    sess.run( a_times_two )  # >> 16\n",
    "\n",
    "## TensorFlow assigns a*2 to a every time a_times_two is fetched. ##"
   ]
  },
  {
   "cell_type": "markdown",
   "metadata": {},
   "source": [
    "### Optimizers and loss functions\n",
    "^ Gradient Descent(/Ascent)\n",
    "\n",
    "Linear Prediction\n",
    "* Given a feature vector *φ(x)* and a weight vector **w**, we define the prediction **score** to be their inner product. \n",
    "    * The score intuitively represents the degree to which the classification is positive or negative.\n",
    "* The predictor is linear because the score is a linear function of **w**.\n",
    "* In the context of binary classification with binary features, the score aggregates the contribution of each feature, weighted appropriate. \n",
    "    * We can think of each feature present as voting on the classification.\n",
    "* What if we don't know **w**?\n",
    "\n",
    "Loss function\n",
    "* Def: A loss function Loss(x, y, **w**) quantifies how unhappy you would be if you used **w** to make a prediction on x when the correct output is y. It is the object we want to minimize.\n",
    "* Key: need to set **w** to make global tradeoffs — not every example can be happy.\n",
    "\n",
    "Gradients\n",
    "* The gradient $$\nabla_{w}$$TrainLoss(**w**) is the direction that increases the loss the most.\n",
    "    * Tells us which direction to move in\n",
    "    * Gradient descent\n",
    "        * step size\n",
    "        * number of iterations\n",
    "        * SLOW - must go through every piece of data\n",
    "            * Solution: Stochastic updates\n",
    "            \n",
    "    "
   ]
  }
 ],
 "metadata": {
  "kernelspec": {
   "display_name": "Python 3",
   "language": "python",
   "name": "python3"
  },
  "language_info": {
   "codemirror_mode": {
    "name": "ipython",
    "version": 3
   },
   "file_extension": ".py",
   "mimetype": "text/x-python",
   "name": "python",
   "nbconvert_exporter": "python",
   "pygments_lexer": "ipython3",
   "version": "3.5.1"
  }
 },
 "nbformat": 4,
 "nbformat_minor": 2
}
